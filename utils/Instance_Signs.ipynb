{
 "metadata": {
  "name": "",
  "signature": "sha256:83e5a817db2b43e79283e395073b1da63cbb25e236ad41b95cbb8d4df827e705"
 },
 "nbformat": 3,
 "nbformat_minor": 0,
 "worksheets": [
  {
   "cells": [
    {
     "cell_type": "code",
     "collapsed": false,
     "input": [
      "%matplotlib inline"
     ],
     "language": "python",
     "metadata": {},
     "outputs": [],
     "prompt_number": 1
    },
    {
     "cell_type": "code",
     "collapsed": false,
     "input": [
      "import pandas as pd\n",
      "\n",
      "from flask import *\n",
      "from __init__ import app\n",
      "\n",
      "from flask.ext.sqlalchemy import SQLAlchemy\n",
      "from apps.glyph.models import *\n",
      "\n",
      "app.testing = True\n",
      "client = app.test_client()\n",
      "ctx = app.test_request_context()\n",
      "ctx.push()"
     ],
     "language": "python",
     "metadata": {},
     "outputs": [],
     "prompt_number": 2
    },
    {
     "cell_type": "code",
     "collapsed": false,
     "input": [
      "# Get unique Instance signs\n",
      "df = pd.read_excel(\n",
      "    \"csvs/instance_signs_for_comparison.xlsx\",\n",
      "    'Sheet1',\n",
      "    index_col='index',\n",
      "    na_values=['NA'])\n",
      "\n",
      "df.head()"
     ],
     "language": "python",
     "metadata": {},
     "outputs": [
      {
       "html": [
        "<div style=\"max-height:1000px;max-width:1500px;overflow:auto;\">\n",
        "<table border=\"1\" class=\"dataframe\">\n",
        "  <thead>\n",
        "    <tr style=\"text-align: right;\">\n",
        "      <th></th>\n",
        "      <th>instance_signs</th>\n",
        "    </tr>\n",
        "    <tr>\n",
        "      <th>index</th>\n",
        "      <th></th>\n",
        "    </tr>\n",
        "  </thead>\n",
        "  <tbody>\n",
        "    <tr>\n",
        "      <th>1</th>\n",
        "      <td>   \u0160E</td>\n",
        "    </tr>\n",
        "    <tr>\n",
        "      <th>2</th>\n",
        "      <td> \u0160E\u01602</td>\n",
        "    </tr>\n",
        "    <tr>\n",
        "      <th>3</th>\n",
        "      <td>  \u0160E\u0160</td>\n",
        "    </tr>\n",
        "    <tr>\n",
        "      <th>4</th>\n",
        "      <td> BALA</td>\n",
        "    </tr>\n",
        "    <tr>\n",
        "      <th>5</th>\n",
        "      <td>   A\u0160</td>\n",
        "    </tr>\n",
        "  </tbody>\n",
        "</table>\n",
        "</div>"
       ],
       "metadata": {},
       "output_type": "pyout",
       "prompt_number": 3,
       "text": [
        "      instance_signs\n",
        "index               \n",
        "1                 \u0160E\n",
        "2               \u0160E\u01602\n",
        "3                \u0160E\u0160\n",
        "4               BALA\n",
        "5                 A\u0160"
       ]
      }
     ],
     "prompt_number": 3
    },
    {
     "cell_type": "code",
     "collapsed": false,
     "input": [
      "# Get unique DB Signs\n",
      "df_signs = pd.DataFrame({\n",
      "    'instance_signs': [record[0] for record in db.session.query(Sign).with_entities(Sign.sign_ref).all()]})\n",
      "df_signs.head()"
     ],
     "language": "python",
     "metadata": {},
     "outputs": [
      {
       "html": [
        "<div style=\"max-height:1000px;max-width:1500px;overflow:auto;\">\n",
        "<table border=\"1\" class=\"dataframe\">\n",
        "  <thead>\n",
        "    <tr style=\"text-align: right;\">\n",
        "      <th></th>\n",
        "      <th>instance_signs</th>\n",
        "    </tr>\n",
        "  </thead>\n",
        "  <tbody>\n",
        "    <tr>\n",
        "      <th>0</th>\n",
        "      <td>       1</td>\n",
        "    </tr>\n",
        "    <tr>\n",
        "      <th>1</th>\n",
        "      <td> 1(A\u0160@T)</td>\n",
        "    </tr>\n",
        "    <tr>\n",
        "      <th>2</th>\n",
        "      <td> 1(A\u0160@t)</td>\n",
        "    </tr>\n",
        "    <tr>\n",
        "      <th>3</th>\n",
        "      <td>  1(DI\u0160)</td>\n",
        "    </tr>\n",
        "    <tr>\n",
        "      <th>4</th>\n",
        "      <td> 1(E\u0160E\u2083)</td>\n",
        "    </tr>\n",
        "  </tbody>\n",
        "</table>\n",
        "</div>"
       ],
       "metadata": {},
       "output_type": "pyout",
       "prompt_number": 4,
       "text": [
        "  instance_signs\n",
        "0              1\n",
        "1        1(A\u0160@T)\n",
        "2        1(A\u0160@t)\n",
        "3         1(DI\u0160)\n",
        "4        1(E\u0160E\u2083)"
       ]
      }
     ],
     "prompt_number": 4
    },
    {
     "cell_type": "code",
     "collapsed": false,
     "input": [
      "instance_set = set(list(df['instance_signs']))\n",
      "sign_set = set(list(df_signs['instance_signs']))"
     ],
     "language": "python",
     "metadata": {},
     "outputs": [],
     "prompt_number": 5
    },
    {
     "cell_type": "code",
     "collapsed": false,
     "input": [
      "instance_not_in_signs = list(instance_set.difference(sign_set))\n",
      "sign_not_in_instance = list(sign_set.difference(instance_set))"
     ],
     "language": "python",
     "metadata": {},
     "outputs": [],
     "prompt_number": 6
    },
    {
     "cell_type": "code",
     "collapsed": false,
     "input": [
      "df_instance_not_in_signs = pd.DataFrame({'Instance Signs not in Master Sign List': instance_not_in_signs})\n",
      "df_signs_not_in_instance = pd.DataFrame({'Master Signs not in Instance List': sign_not_in_instance})"
     ],
     "language": "python",
     "metadata": {},
     "outputs": [],
     "prompt_number": 7
    },
    {
     "cell_type": "code",
     "collapsed": false,
     "input": [
      "df_signs.to_excel('csvs/master_sign_list.xlsx', sheet_name='Sheet1')\n",
      "\n",
      "df_instance_not_in_signs.to_excel('csvs/instances_not_in_signs.xlsx', sheet_name='Sheet1')\n",
      "df_signs_not_in_instance.to_excel('csvs/signs_not_in_instances.xlsx', sheet_name='Sheet1')"
     ],
     "language": "python",
     "metadata": {},
     "outputs": [],
     "prompt_number": 8
    },
    {
     "cell_type": "code",
     "collapsed": false,
     "input": [
      "len(df_instance_not_in_signs)"
     ],
     "language": "python",
     "metadata": {},
     "outputs": [
      {
       "metadata": {},
       "output_type": "pyout",
       "prompt_number": 14,
       "text": [
        "157"
       ]
      }
     ],
     "prompt_number": 14
    },
    {
     "cell_type": "code",
     "collapsed": false,
     "input": [
      "len(df)"
     ],
     "language": "python",
     "metadata": {},
     "outputs": [
      {
       "metadata": {},
       "output_type": "pyout",
       "prompt_number": 15,
       "text": [
        "422"
       ]
      }
     ],
     "prompt_number": 15
    },
    {
     "cell_type": "code",
     "collapsed": false,
     "input": [],
     "language": "python",
     "metadata": {},
     "outputs": [],
     "prompt_number": 12
    }
   ],
   "metadata": {}
  }
 ]
}